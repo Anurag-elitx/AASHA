{
  "nbformat": 4,
  "nbformat_minor": 0,
  "metadata": {
    "colab": {
      "provenance": [],
      "authorship_tag": "ABX9TyMV6v9IOmnEsceAikdEx7vO",
      "include_colab_link": true
    },
    "kernelspec": {
      "name": "python3",
      "display_name": "Python 3"
    },
    "language_info": {
      "name": "python"
    }
  },
  "cells": [
    {
      "cell_type": "markdown",
      "metadata": {
        "id": "view-in-github",
        "colab_type": "text"
      },
      "source": [
        "<a href=\"https://colab.research.google.com/github/Anurag-elitx/AASHA/blob/main/Strings%2C_Conditional_Statements%2C_Loops%2C_f_String_p.ipynb\" target=\"_parent\"><img src=\"https://colab.research.google.com/assets/colab-badge.svg\" alt=\"Open In Colab\"/></a>"
      ]
    },
    {
      "cell_type": "markdown",
      "source": [
        "String declaration, slicing"
      ],
      "metadata": {
        "id": "C1r7b-rNfmYn"
      }
    },
    {
      "cell_type": "code",
      "execution_count": null,
      "metadata": {
        "colab": {
          "base_uri": "https://localhost:8080/"
        },
        "id": "IsbUALhCdXIU",
        "outputId": "dc7f35e4-d090-45b6-bae7-5d0a4f3f9cdd"
      },
      "outputs": [
        {
          "output_type": "stream",
          "name": "stdout",
          "text": [
            "5\n",
            "hell\n"
          ]
        }
      ],
      "source": [
        "# Kinds of string declaration\n",
        "\n",
        "str1 = 'hello'\n",
        "str2 = \"hello\"\n",
        "str3 = \"\"\"hello\n",
        "welcome to pst\"\"\" #we can write the string content in other line also using this\n",
        "\n",
        "# string are immutable in nature\n",
        "print(len(str2))\n",
        "print(str2[0:4])"
      ]
    },
    {
      "cell_type": "code",
      "source": [
        "# slicing with three parameters  [startIndex : endIndex: steps]\n",
        "numString = \"0123456789\"\n",
        "print(numString[2::2])\n",
        "\n",
        "charAtIndex1 = numString[1]\n",
        "print(charAtIndex1)\n",
        "print(type(charAtIndex1))"
      ],
      "metadata": {
        "id": "IPLplxdke5rh"
      },
      "execution_count": null,
      "outputs": []
    },
    {
      "cell_type": "markdown",
      "source": [
        "\n",
        "String Functions"
      ],
      "metadata": {
        "id": "ly6HmOZcgREP"
      }
    },
    {
      "cell_type": "code",
      "source": [
        "randomString = \"polaris school of technology\"\n",
        "\n",
        "# len function\n",
        "print(len(randomString))\n",
        "\n",
        "# capitalize function\n",
        "print(randomString.capitalize())\n",
        "\n",
        "# UPPER FUNCTION\n",
        "print(randomString.upper())\n",
        "\n",
        "# lower function\n",
        "print(randomString.lower())\n",
        "\n",
        "# starts with\n",
        "print(randomString.startswith(\"p\"))\n",
        "\n",
        "# ends with\n",
        "print(randomString.endswith(\"y\"))\n",
        "\n",
        "# Title\n",
        "print(randomString.title())\n",
        "\n",
        "# find\n",
        "print(randomString.find(\"school\"))\n",
        "\n",
        "# replace\n",
        "print(randomString.replace(\"very\",\"far\"))"
      ],
      "metadata": {
        "id": "RR_HXvb7gUE-"
      },
      "execution_count": null,
      "outputs": []
    },
    {
      "cell_type": "code",
      "source": [
        "stringNew = \"polaris school  of technology,  bangalore\"\n",
        "\n",
        "print(stringNew.find(\"  \"))\n",
        "\n",
        "index = 0\n",
        "while(True):\n",
        "  index = stringNew.find(\" \",index)\n",
        "  if(index == -1):\n",
        "    break\n",
        "  print(\"Double spaces found at index\", index)\n",
        "  index += 2"
      ],
      "metadata": {
        "id": "UUiUzof4ju2B"
      },
      "execution_count": null,
      "outputs": []
    },
    {
      "cell_type": "markdown",
      "source": [
        "Conditional Statement"
      ],
      "metadata": {
        "id": "azMI64JmmLh2"
      }
    },
    {
      "cell_type": "code",
      "source": [
        "# if, if-else, if-elif, else ladder\n",
        "\n",
        "# WAP a program to print greatest of 4 numbers using if-elif-else ladder\n",
        "# Program to find the greatest of 4 numbers using if-elif-else ladder\n",
        "\n",
        "a = int(input(\"Enter first number: \"))\n",
        "b = int(input(\"Enter second number: \"))\n",
        "c = int(input(\"Enter third number: \"))\n",
        "d = int(input(\"Enter fourth number: \"))\n",
        "\n",
        "if a >= b and a >= c and a >= d:\n",
        "    print(\"Greatest number is:\", a)\n",
        "elif b >= a and b >= c and b >= d:\n",
        "    print(\"Greatest number is:\", b)\n",
        "elif c >= a and c >= b and c >= d:\n",
        "    print(\"Greatest number is:\", c)\n",
        "else:\n",
        "    print(\"Greatest number is:\", d)\n"
      ],
      "metadata": {
        "id": "zd3XJI4hmN4q"
      },
      "execution_count": null,
      "outputs": []
    },
    {
      "cell_type": "markdown",
      "source": [
        "Looping"
      ],
      "metadata": {
        "id": "bJ6OWTa4oVGO"
      }
    },
    {
      "cell_type": "code",
      "source": [
        "for i in range(4):\n",
        "  print(i)\n",
        "\n",
        "for i in range(1,4):\n",
        "  print(i)\n",
        "\n",
        "for i in range(0,10,2):\n",
        "  print(i)"
      ],
      "metadata": {
        "id": "SWfxpSsZoXz7"
      },
      "execution_count": null,
      "outputs": []
    },
    {
      "cell_type": "code",
      "source": [
        "# f string\n",
        "var =36\n",
        "print(f\"hello my name is {var} and I am good \")"
      ],
      "metadata": {
        "id": "0YR5eLIPpJ4v"
      },
      "execution_count": null,
      "outputs": []
    }
  ]
}